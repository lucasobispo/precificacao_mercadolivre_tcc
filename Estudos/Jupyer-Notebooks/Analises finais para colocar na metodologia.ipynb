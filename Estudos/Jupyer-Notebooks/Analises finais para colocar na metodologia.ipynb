{
 "cells": [
  {
   "cell_type": "code",
   "execution_count": 2,
   "metadata": {},
   "outputs": [],
   "source": [
    "import pandas as pd\n"
   ]
  },
  {
   "cell_type": "code",
   "execution_count": 8,
   "metadata": {},
   "outputs": [],
   "source": [
    "## Base inicial da coleta dos dados em Março (base_modelo)"
   ]
  },
  {
   "cell_type": "code",
   "execution_count": 10,
   "metadata": {},
   "outputs": [],
   "source": [
    "base_modelo = pd.read_csv(r'C:\\Users\\eloah.noguchi\\Downloads\\base_modelo_v2.csv')"
   ]
  },
  {
   "cell_type": "code",
   "execution_count": 25,
   "metadata": {},
   "outputs": [
    {
     "data": {
      "text/html": [
       "<div>\n",
       "<style scoped>\n",
       "    .dataframe tbody tr th:only-of-type {\n",
       "        vertical-align: middle;\n",
       "    }\n",
       "\n",
       "    .dataframe tbody tr th {\n",
       "        vertical-align: top;\n",
       "    }\n",
       "\n",
       "    .dataframe thead th {\n",
       "        text-align: right;\n",
       "    }\n",
       "</style>\n",
       "<table border=\"1\" class=\"dataframe\">\n",
       "  <thead>\n",
       "    <tr style=\"text-align: right;\">\n",
       "      <th></th>\n",
       "      <th>Linha</th>\n",
       "      <th>Marca</th>\n",
       "      <th>Modelo de GPU</th>\n",
       "      <th>title_upper</th>\n",
       "      <th>Modelo</th>\n",
       "      <th>Modelo do processador</th>\n",
       "      <th>Peso</th>\n",
       "      <th>price</th>\n",
       "      <th>category_file</th>\n",
       "      <th>address.city_name</th>\n",
       "      <th>address.city_id</th>\n",
       "      <th>address.state_name</th>\n",
       "      <th>address.state_id</th>\n",
       "      <th>condition</th>\n",
       "      <th>category_id</th>\n",
       "    </tr>\n",
       "  </thead>\n",
       "  <tbody>\n",
       "    <tr>\n",
       "      <th>0</th>\n",
       "      <td>Redmi</td>\n",
       "      <td>Xiaomi</td>\n",
       "      <td>Mali-G52 MC2</td>\n",
       "      <td>XIAOMI REDMI 9 (GLOBAL) DUAL SIM 64 GB CARBON ...</td>\n",
       "      <td>9 (Global)</td>\n",
       "      <td>MediaTek Helio G80</td>\n",
       "      <td>198 g</td>\n",
       "      <td>1259.0</td>\n",
       "      <td>MLB1051</td>\n",
       "      <td>São Paulo</td>\n",
       "      <td>BR-SP-44</td>\n",
       "      <td>São Paulo</td>\n",
       "      <td>BR-SP</td>\n",
       "      <td>new</td>\n",
       "      <td>MLB1055</td>\n",
       "    </tr>\n",
       "    <tr>\n",
       "      <th>1</th>\n",
       "      <td>Redmi</td>\n",
       "      <td>Xiaomi</td>\n",
       "      <td>Mali-G52 MC2</td>\n",
       "      <td>XIAOMI REDMI 9 (GLOBAL) DUAL SIM 64 GB CARBON ...</td>\n",
       "      <td>9 (Global)</td>\n",
       "      <td>MediaTek Helio G80</td>\n",
       "      <td>198 g</td>\n",
       "      <td>1259.0</td>\n",
       "      <td>MLB1051</td>\n",
       "      <td>São Paulo</td>\n",
       "      <td>BR-SP-44</td>\n",
       "      <td>São Paulo</td>\n",
       "      <td>BR-SP</td>\n",
       "      <td>new</td>\n",
       "      <td>MLB1055</td>\n",
       "    </tr>\n",
       "    <tr>\n",
       "      <th>2</th>\n",
       "      <td>Redmi</td>\n",
       "      <td>Xiaomi</td>\n",
       "      <td>Mali-G52 MC2</td>\n",
       "      <td>XIAOMI REDMI 9 (GLOBAL) DUAL SIM 64 GB CARBON ...</td>\n",
       "      <td>9 (Global)</td>\n",
       "      <td>MediaTek Helio G80</td>\n",
       "      <td>198 g</td>\n",
       "      <td>1259.0</td>\n",
       "      <td>MLB1055</td>\n",
       "      <td>São Paulo</td>\n",
       "      <td>BR-SP-44</td>\n",
       "      <td>São Paulo</td>\n",
       "      <td>BR-SP</td>\n",
       "      <td>new</td>\n",
       "      <td>MLB1055</td>\n",
       "    </tr>\n",
       "    <tr>\n",
       "      <th>3</th>\n",
       "      <td>Redmi</td>\n",
       "      <td>Xiaomi</td>\n",
       "      <td>Mali-G52 MC2</td>\n",
       "      <td>XIAOMI REDMI 9 (GLOBAL) DUAL SIM 64 GB CARBON ...</td>\n",
       "      <td>9 (Global)</td>\n",
       "      <td>MediaTek Helio G80</td>\n",
       "      <td>198 g</td>\n",
       "      <td>1259.0</td>\n",
       "      <td>MLB1055</td>\n",
       "      <td>São Paulo</td>\n",
       "      <td>BR-SP-44</td>\n",
       "      <td>São Paulo</td>\n",
       "      <td>BR-SP</td>\n",
       "      <td>new</td>\n",
       "      <td>MLB1055</td>\n",
       "    </tr>\n",
       "    <tr>\n",
       "      <th>4</th>\n",
       "      <td>Redmi</td>\n",
       "      <td>Xiaomi</td>\n",
       "      <td>Adreno 610</td>\n",
       "      <td>XIAOMI REDMI NOTE 8 DUAL SIM 64 GB NEPTUNE BLU...</td>\n",
       "      <td>Note 8</td>\n",
       "      <td>Snapdragon 665</td>\n",
       "      <td>190 g</td>\n",
       "      <td>1355.0</td>\n",
       "      <td>MLB1051</td>\n",
       "      <td>Terra Boa</td>\n",
       "      <td>TUxCQ1RFUjMwZTA0</td>\n",
       "      <td>Paraná</td>\n",
       "      <td>BR-PR</td>\n",
       "      <td>new</td>\n",
       "      <td>MLB1055</td>\n",
       "    </tr>\n",
       "    <tr>\n",
       "      <th>...</th>\n",
       "      <td>...</td>\n",
       "      <td>...</td>\n",
       "      <td>...</td>\n",
       "      <td>...</td>\n",
       "      <td>...</td>\n",
       "      <td>...</td>\n",
       "      <td>...</td>\n",
       "      <td>...</td>\n",
       "      <td>...</td>\n",
       "      <td>...</td>\n",
       "      <td>...</td>\n",
       "      <td>...</td>\n",
       "      <td>...</td>\n",
       "      <td>...</td>\n",
       "      <td>...</td>\n",
       "    </tr>\n",
       "    <tr>\n",
       "      <th>8597</th>\n",
       "      <td>Galaxy S</td>\n",
       "      <td>Samsung</td>\n",
       "      <td>Adreno A618</td>\n",
       "      <td>SAMSUNG GALAXY S10E DUAL SIM 128 GB PRISM WHIT...</td>\n",
       "      <td>S10e Duos</td>\n",
       "      <td>Snapdragon 450</td>\n",
       "      <td>150 g</td>\n",
       "      <td>1659.0</td>\n",
       "      <td>MLB1055</td>\n",
       "      <td>São Paulo</td>\n",
       "      <td>BR-SP-44</td>\n",
       "      <td>São Paulo</td>\n",
       "      <td>BR-SP</td>\n",
       "      <td>used</td>\n",
       "      <td>MLB1055</td>\n",
       "    </tr>\n",
       "    <tr>\n",
       "      <th>8598</th>\n",
       "      <td>iPhone</td>\n",
       "      <td>Apple</td>\n",
       "      <td>PowerVR Series7XT Plus</td>\n",
       "      <td>IPHONE 7</td>\n",
       "      <td>iPhone 7</td>\n",
       "      <td>Apple A10 Fusion</td>\n",
       "      <td>138 g</td>\n",
       "      <td>1950.0</td>\n",
       "      <td>MLB1051</td>\n",
       "      <td>Suruí</td>\n",
       "      <td>QlItUkpTdXJ1w60</td>\n",
       "      <td>Rio de Janeiro</td>\n",
       "      <td>BR-RJ</td>\n",
       "      <td>used</td>\n",
       "      <td>MLB1055</td>\n",
       "    </tr>\n",
       "    <tr>\n",
       "      <th>8599</th>\n",
       "      <td>iPhone</td>\n",
       "      <td>Apple</td>\n",
       "      <td>PowerVR Series7XT Plus</td>\n",
       "      <td>IPHONE 7</td>\n",
       "      <td>iPhone 7</td>\n",
       "      <td>Apple A10 Fusion</td>\n",
       "      <td>138 g</td>\n",
       "      <td>1950.0</td>\n",
       "      <td>MLB1055</td>\n",
       "      <td>Suruí</td>\n",
       "      <td>QlItUkpTdXJ1w60</td>\n",
       "      <td>Rio de Janeiro</td>\n",
       "      <td>BR-RJ</td>\n",
       "      <td>used</td>\n",
       "      <td>MLB1055</td>\n",
       "    </tr>\n",
       "    <tr>\n",
       "      <th>8600</th>\n",
       "      <td>Canvas Focus</td>\n",
       "      <td>Redmi</td>\n",
       "      <td>PowerVR Series7XT Plus</td>\n",
       "      <td>CELULAR REDMI NOTE 8 64G</td>\n",
       "      <td>Redmi note 8</td>\n",
       "      <td>Apple A10 Fusion</td>\n",
       "      <td>138 g</td>\n",
       "      <td>1400.0</td>\n",
       "      <td>MLB1051</td>\n",
       "      <td>Maceió</td>\n",
       "      <td>TUxCQ01BQzFiOTU0</td>\n",
       "      <td>Alagoas</td>\n",
       "      <td>BR-AL</td>\n",
       "      <td>used</td>\n",
       "      <td>MLB1055</td>\n",
       "    </tr>\n",
       "    <tr>\n",
       "      <th>8601</th>\n",
       "      <td>Canvas Focus</td>\n",
       "      <td>Redmi</td>\n",
       "      <td>PowerVR Series7XT Plus</td>\n",
       "      <td>CELULAR REDMI NOTE 8 64G</td>\n",
       "      <td>Redmi note 8</td>\n",
       "      <td>Apple A10 Fusion</td>\n",
       "      <td>138 g</td>\n",
       "      <td>1400.0</td>\n",
       "      <td>MLB1055</td>\n",
       "      <td>Maceió</td>\n",
       "      <td>TUxCQ01BQzFiOTU0</td>\n",
       "      <td>Alagoas</td>\n",
       "      <td>BR-AL</td>\n",
       "      <td>used</td>\n",
       "      <td>MLB1055</td>\n",
       "    </tr>\n",
       "  </tbody>\n",
       "</table>\n",
       "<p>8602 rows × 15 columns</p>\n",
       "</div>"
      ],
      "text/plain": [
       "             Linha    Marca           Modelo de GPU  \\\n",
       "0            Redmi   Xiaomi            Mali-G52 MC2   \n",
       "1            Redmi   Xiaomi            Mali-G52 MC2   \n",
       "2            Redmi   Xiaomi            Mali-G52 MC2   \n",
       "3            Redmi   Xiaomi            Mali-G52 MC2   \n",
       "4            Redmi   Xiaomi              Adreno 610   \n",
       "...            ...      ...                     ...   \n",
       "8597      Galaxy S  Samsung             Adreno A618   \n",
       "8598        iPhone    Apple  PowerVR Series7XT Plus   \n",
       "8599        iPhone    Apple  PowerVR Series7XT Plus   \n",
       "8600  Canvas Focus    Redmi  PowerVR Series7XT Plus   \n",
       "8601  Canvas Focus    Redmi  PowerVR Series7XT Plus   \n",
       "\n",
       "                                            title_upper        Modelo  \\\n",
       "0     XIAOMI REDMI 9 (GLOBAL) DUAL SIM 64 GB CARBON ...    9 (Global)   \n",
       "1     XIAOMI REDMI 9 (GLOBAL) DUAL SIM 64 GB CARBON ...    9 (Global)   \n",
       "2     XIAOMI REDMI 9 (GLOBAL) DUAL SIM 64 GB CARBON ...    9 (Global)   \n",
       "3     XIAOMI REDMI 9 (GLOBAL) DUAL SIM 64 GB CARBON ...    9 (Global)   \n",
       "4     XIAOMI REDMI NOTE 8 DUAL SIM 64 GB NEPTUNE BLU...        Note 8   \n",
       "...                                                 ...           ...   \n",
       "8597  SAMSUNG GALAXY S10E DUAL SIM 128 GB PRISM WHIT...     S10e Duos   \n",
       "8598                                           IPHONE 7      iPhone 7   \n",
       "8599                                           IPHONE 7      iPhone 7   \n",
       "8600                           CELULAR REDMI NOTE 8 64G  Redmi note 8   \n",
       "8601                           CELULAR REDMI NOTE 8 64G  Redmi note 8   \n",
       "\n",
       "     Modelo do processador   Peso   price category_file address.city_name  \\\n",
       "0       MediaTek Helio G80  198 g  1259.0       MLB1051         São Paulo   \n",
       "1       MediaTek Helio G80  198 g  1259.0       MLB1051         São Paulo   \n",
       "2       MediaTek Helio G80  198 g  1259.0       MLB1055         São Paulo   \n",
       "3       MediaTek Helio G80  198 g  1259.0       MLB1055         São Paulo   \n",
       "4           Snapdragon 665  190 g  1355.0       MLB1051         Terra Boa   \n",
       "...                    ...    ...     ...           ...               ...   \n",
       "8597        Snapdragon 450  150 g  1659.0       MLB1055         São Paulo   \n",
       "8598      Apple A10 Fusion  138 g  1950.0       MLB1051             Suruí   \n",
       "8599      Apple A10 Fusion  138 g  1950.0       MLB1055             Suruí   \n",
       "8600      Apple A10 Fusion  138 g  1400.0       MLB1051            Maceió   \n",
       "8601      Apple A10 Fusion  138 g  1400.0       MLB1055            Maceió   \n",
       "\n",
       "       address.city_id address.state_name address.state_id condition  \\\n",
       "0             BR-SP-44          São Paulo            BR-SP       new   \n",
       "1             BR-SP-44          São Paulo            BR-SP       new   \n",
       "2             BR-SP-44          São Paulo            BR-SP       new   \n",
       "3             BR-SP-44          São Paulo            BR-SP       new   \n",
       "4     TUxCQ1RFUjMwZTA0             Paraná            BR-PR       new   \n",
       "...                ...                ...              ...       ...   \n",
       "8597          BR-SP-44          São Paulo            BR-SP      used   \n",
       "8598   QlItUkpTdXJ1w60     Rio de Janeiro            BR-RJ      used   \n",
       "8599   QlItUkpTdXJ1w60     Rio de Janeiro            BR-RJ      used   \n",
       "8600  TUxCQ01BQzFiOTU0            Alagoas            BR-AL      used   \n",
       "8601  TUxCQ01BQzFiOTU0            Alagoas            BR-AL      used   \n",
       "\n",
       "     category_id  \n",
       "0        MLB1055  \n",
       "1        MLB1055  \n",
       "2        MLB1055  \n",
       "3        MLB1055  \n",
       "4        MLB1055  \n",
       "...          ...  \n",
       "8597     MLB1055  \n",
       "8598     MLB1055  \n",
       "8599     MLB1055  \n",
       "8600     MLB1055  \n",
       "8601     MLB1055  \n",
       "\n",
       "[8602 rows x 15 columns]"
      ]
     },
     "execution_count": 25,
     "metadata": {},
     "output_type": "execute_result"
    }
   ],
   "source": [
    "base_modelo"
   ]
  },
  {
   "cell_type": "code",
   "execution_count": 12,
   "metadata": {},
   "outputs": [],
   "source": [
    "#Quantidade da base"
   ]
  },
  {
   "cell_type": "code",
   "execution_count": 11,
   "metadata": {},
   "outputs": [
    {
     "data": {
      "text/plain": [
       "Linha                    8577\n",
       "Marca                    8601\n",
       "Modelo de GPU            8595\n",
       "title_upper              8602\n",
       "Modelo                   8601\n",
       "Modelo do processador    8602\n",
       "Peso                     8602\n",
       "price                    8602\n",
       "category_file            8602\n",
       "address.city_name        8602\n",
       "address.city_id          8602\n",
       "address.state_name       8602\n",
       "address.state_id         8602\n",
       "condition                8602\n",
       "category_id              8602\n",
       "dtype: int64"
      ]
     },
     "execution_count": 11,
     "metadata": {},
     "output_type": "execute_result"
    }
   ],
   "source": [
    "base_modelo.count()"
   ]
  },
  {
   "cell_type": "code",
   "execution_count": 13,
   "metadata": {},
   "outputs": [],
   "source": [
    "#range de datas Janeiro a Março"
   ]
  },
  {
   "cell_type": "code",
   "execution_count": null,
   "metadata": {},
   "outputs": [],
   "source": [
    "#marcas disponiveis - Apple, Samsung, Motorola, Xiaomi, Realme"
   ]
  },
  {
   "cell_type": "code",
   "execution_count": 24,
   "metadata": {},
   "outputs": [
    {
     "data": {
      "text/plain": [
       "Marca\n",
       "AKUA Mobile       1\n",
       "KINGLEEN          1\n",
       "Kenwood           1\n",
       "Luxunmaoyi        1\n",
       "Meizu             1\n",
       "               ... \n",
       "Realme          169\n",
       "Motorola        461\n",
       "Samsung        1157\n",
       "Xiaomi         2621\n",
       "Apple          3660\n",
       "Name: Marca, Length: 80, dtype: int64"
      ]
     },
     "execution_count": 24,
     "metadata": {},
     "output_type": "execute_result"
    }
   ],
   "source": [
    "base_modelo.groupby('Marca').Marca.count().sort_values()"
   ]
  },
  {
   "cell_type": "code",
   "execution_count": 32,
   "metadata": {},
   "outputs": [],
   "source": [
    "#Estados com mais anúncios de celulares, São Paulo, Paraná, Minas Gerais, Goiás, Rio de Janeiro, Santa Catarina, Bahia, Rio Grande do Sul"
   ]
  },
  {
   "cell_type": "code",
   "execution_count": 31,
   "metadata": {},
   "outputs": [
    {
     "data": {
      "text/plain": [
       "address.state_name\n",
       "Amapá                     5\n",
       "Acre                      8\n",
       "Roraima                  10\n",
       "Tocantins                11\n",
       "Sergipe                  16\n",
       "Alagoas                  21\n",
       "Rondônia                 22\n",
       "Amazonas                 23\n",
       "Paraíba                  25\n",
       "Mato Grosso              33\n",
       "Pará                     36\n",
       "Piauí                    36\n",
       "Rio Grande do Norte      52\n",
       "Maranhão                 70\n",
       "Ceará                    75\n",
       "Mato Grosso do Sul       85\n",
       "Pernambuco               98\n",
       "Espírito Santo          108\n",
       "Distrito Federal        153\n",
       "Rio Grande do Sul       241\n",
       "Bahia                   250\n",
       "Santa Catarina          283\n",
       "Rio de Janeiro          483\n",
       "Goiás                   541\n",
       "Minas Gerais            619\n",
       "Paraná                  815\n",
       "São Paulo              4483\n",
       "Name: address.state_name, dtype: int64"
      ]
     },
     "execution_count": 31,
     "metadata": {},
     "output_type": "execute_result"
    }
   ],
   "source": [
    "base_modelo.groupby('address.state_name')['address.state_name'].count().sort_values()"
   ]
  },
  {
   "cell_type": "code",
   "execution_count": null,
   "metadata": {},
   "outputs": [],
   "source": [
    "#Quantidade de celulares novos e usados"
   ]
  },
  {
   "cell_type": "code",
   "execution_count": 34,
   "metadata": {},
   "outputs": [
    {
     "data": {
      "text/plain": [
       "condition\n",
       "used    3952\n",
       "new     4650\n",
       "Name: condition, dtype: int64"
      ]
     },
     "execution_count": 34,
     "metadata": {},
     "output_type": "execute_result"
    }
   ],
   "source": [
    "base_modelo.groupby('condition').condition.count().sort_values()"
   ]
  },
  {
   "cell_type": "code",
   "execution_count": null,
   "metadata": {},
   "outputs": [],
   "source": []
  },
  {
   "cell_type": "code",
   "execution_count": 7,
   "metadata": {},
   "outputs": [],
   "source": [
    "##Base de dados bruta com todos os dados, com as colunas abertas (dados limpos)"
   ]
  },
  {
   "cell_type": "code",
   "execution_count": 2,
   "metadata": {},
   "outputs": [],
   "source": [
    "bruto = pd.read_parquet(r'C:\\Users\\eloah.noguchi\\Downloads\\dados-limpos-20210505.parquet')\n"
   ]
  },
  {
   "cell_type": "code",
   "execution_count": 35,
   "metadata": {},
   "outputs": [],
   "source": [
    "#Quantidade da base"
   ]
  },
  {
   "cell_type": "code",
   "execution_count": 6,
   "metadata": {},
   "outputs": [
    {
     "data": {
      "text/plain": [
       "Unnamed: 0                 860466\n",
       "id                         860466\n",
       "site_id                    860466\n",
       "title                      860466\n",
       "price                      860466\n",
       "                            ...  \n",
       "Modelo do carro            502802\n",
       "Modelo celular             402683\n",
       "Comprimento do punho       322144\n",
       "Comprimento da lâmina      322144\n",
       "Modelo de TV compatível     86039\n",
       "Length: 155, dtype: int64"
      ]
     },
     "execution_count": 6,
     "metadata": {},
     "output_type": "execute_result"
    }
   ],
   "source": [
    "bruto.count()"
   ]
  },
  {
   "cell_type": "code",
   "execution_count": 36,
   "metadata": {},
   "outputs": [],
   "source": [
    "#Data mais recente"
   ]
  },
  {
   "cell_type": "code",
   "execution_count": 49,
   "metadata": {
    "scrolled": true
   },
   "outputs": [
    {
     "data": {
      "text/plain": [
       "'2021-05-05T00:36:28Z'"
      ]
     },
     "execution_count": 49,
     "metadata": {},
     "output_type": "execute_result"
    }
   ],
   "source": [
    "bruto['prices.prices.last_updated'].max()"
   ]
  },
  {
   "cell_type": "code",
   "execution_count": 46,
   "metadata": {},
   "outputs": [],
   "source": [
    "#Data mais antiga"
   ]
  },
  {
   "cell_type": "code",
   "execution_count": 50,
   "metadata": {},
   "outputs": [
    {
     "data": {
      "text/plain": [
       "'2020-08-26T14:14:59Z'"
      ]
     },
     "execution_count": 50,
     "metadata": {},
     "output_type": "execute_result"
    }
   ],
   "source": [
    "bruto['prices.prices.last_updated'].min()"
   ]
  },
  {
   "cell_type": "code",
   "execution_count": 52,
   "metadata": {},
   "outputs": [],
   "source": [
    "#marcas disponiveis - Apple, Samsung, Motorola, Xiaomi, Realme"
   ]
  },
  {
   "cell_type": "code",
   "execution_count": 53,
   "metadata": {},
   "outputs": [
    {
     "data": {
      "text/plain": [
       "Marca\n",
       "Öwn              1\n",
       "J60 Pro          1\n",
       "J7 Metal         1\n",
       "J7 core          1\n",
       "JA               1\n",
       "             ...  \n",
       "generic      51414\n",
       "Xiaomi      103299\n",
       "Motorola    123868\n",
       "Samsung     144591\n",
       "Apple       147504\n",
       "Name: Marca, Length: 6677, dtype: int64"
      ]
     },
     "execution_count": 53,
     "metadata": {},
     "output_type": "execute_result"
    }
   ],
   "source": [
    "bruto.groupby('Marca').Marca.count().sort_values()"
   ]
  },
  {
   "cell_type": "code",
   "execution_count": null,
   "metadata": {},
   "outputs": [],
   "source": [
    "#Estados com mais anúncios de celulares, São Paulo, Paraná, Minas Gerais, Goiás, Rio de Janeiro, Santa Catarina, Bahia, Rio Grande do Sul"
   ]
  },
  {
   "cell_type": "code",
   "execution_count": 54,
   "metadata": {},
   "outputs": [
    {
     "data": {
      "text/plain": [
       "address.state_name\n",
       "Florida                     1\n",
       "Guangdong                  50\n",
       "Roraima                   331\n",
       "Amapá                     347\n",
       "Acre                      719\n",
       "Tocantins                 894\n",
       "Rondônia                 1555\n",
       "Sergipe                  1596\n",
       "Amazonas                 2237\n",
       "Alagoas                  2457\n",
       "Paraíba                  2697\n",
       "Piauí                    3313\n",
       "Maranhão                 3542\n",
       "Rio Grande do Norte      3666\n",
       "Pará                     4008\n",
       "Mato Grosso              4057\n",
       "Mato Grosso do Sul       5023\n",
       "Pernambuco               7050\n",
       "Distrito Federal         9516\n",
       "Espírito Santo          12109\n",
       "Ceará                   14784\n",
       "Goiás                   15606\n",
       "Bahia                   20100\n",
       "Santa Catarina          21072\n",
       "Rio Grande do Sul       27295\n",
       "Rio de Janeiro          47302\n",
       "Paraná                  55740\n",
       "Minas Gerais            62495\n",
       "São Paulo              530904\n",
       "Name: address.state_name, dtype: int64"
      ]
     },
     "execution_count": 54,
     "metadata": {},
     "output_type": "execute_result"
    }
   ],
   "source": [
    "bruto.groupby('address.state_name')['address.state_name'].count().sort_values()"
   ]
  },
  {
   "cell_type": "code",
   "execution_count": null,
   "metadata": {},
   "outputs": [],
   "source": [
    "#Quantidade de celulares por condição"
   ]
  },
  {
   "cell_type": "code",
   "execution_count": 55,
   "metadata": {},
   "outputs": [
    {
     "data": {
      "text/plain": [
       "condition\n",
       "not_specified      1147\n",
       "used             342681\n",
       "new              516638\n",
       "Name: condition, dtype: int64"
      ]
     },
     "execution_count": 55,
     "metadata": {},
     "output_type": "execute_result"
    }
   ],
   "source": [
    "bruto.groupby('condition').condition.count().sort_values()"
   ]
  },
  {
   "cell_type": "code",
   "execution_count": null,
   "metadata": {},
   "outputs": [],
   "source": [
    "#Base de dados final com o web scrapping ligado"
   ]
  },
  {
   "cell_type": "code",
   "execution_count": 3,
   "metadata": {},
   "outputs": [
    {
     "name": "stderr",
     "output_type": "stream",
     "text": [
      "C:\\Users\\eloah.noguchi\\Miniconda3\\envs\\dev\\lib\\site-packages\\IPython\\core\\interactiveshell.py:3072: DtypeWarning: Columns (114,122,123,124,125,126,127,128,129,130,131,132,133,134,135,136,137,138,139,140,141,142,143,146,147,148,151,152,153,154,156,157,158,159,160,161,162,163,164,165,166,169,170,171,178,179,180,181,183,184,185,186,187,188,189,190,191,192,193,196,197,198,199,201,202,203,204,205,206,207,208,214,217,218,219,220,224,226,227,235,236,237,239,244,245,246,247) have mixed types.Specify dtype option on import or set low_memory=False.\n",
      "  interactivity=interactivity, compiler=compiler, result=result)\n"
     ]
    }
   ],
   "source": [
    "web_api = pd.read_csv(r'C:\\Users\\eloah.noguchi\\Downloads\\web_api_final.csv')"
   ]
  },
  {
   "cell_type": "code",
   "execution_count": 12,
   "metadata": {},
   "outputs": [],
   "source": [
    "#Quantidade da base"
   ]
  },
  {
   "cell_type": "code",
   "execution_count": 4,
   "metadata": {},
   "outputs": [
    {
     "data": {
      "text/plain": [
       "id                                    51542\n",
       "title_upper                           51542\n",
       "price                                 51542\n",
       "condition                             51542\n",
       "Linha_x                               51393\n",
       "                                      ...  \n",
       "Quantidade de antenas externas            0\n",
       "Cor da luz                                1\n",
       "Tamanho da tela secundária               12\n",
       "É inflamável                              1\n",
       "Tamanho da tela dobrada secundária        1\n",
       "Length: 248, dtype: int64"
      ]
     },
     "execution_count": 4,
     "metadata": {},
     "output_type": "execute_result"
    }
   ],
   "source": [
    "web_api.count()"
   ]
  },
  {
   "cell_type": "code",
   "execution_count": 64,
   "metadata": {},
   "outputs": [],
   "source": [
    "#range de datas Agosto/2020 a Maio/2021"
   ]
  },
  {
   "cell_type": "code",
   "execution_count": 5,
   "metadata": {},
   "outputs": [
    {
     "data": {
      "text/plain": [
       "'2021-05-05T00:36:28Z'"
      ]
     },
     "execution_count": 5,
     "metadata": {},
     "output_type": "execute_result"
    }
   ],
   "source": [
    "web_api['prices.prices.last_updated'].max()"
   ]
  },
  {
   "cell_type": "code",
   "execution_count": 6,
   "metadata": {},
   "outputs": [
    {
     "data": {
      "text/plain": [
       "'2020-08-26T14:15:07Z'"
      ]
     },
     "execution_count": 6,
     "metadata": {},
     "output_type": "execute_result"
    }
   ],
   "source": [
    "web_api['prices.prices.last_updated'].min()"
   ]
  },
  {
   "cell_type": "code",
   "execution_count": null,
   "metadata": {},
   "outputs": [],
   "source": [
    "#marcas disponiveis - Apple, Samsung, Motorola, Xiaomi, Realme"
   ]
  },
  {
   "cell_type": "code",
   "execution_count": 7,
   "metadata": {},
   "outputs": [
    {
     "data": {
      "text/plain": [
       "Marca_x\n",
       "Huawei         79\n",
       "Sony           80\n",
       "Realme        274\n",
       "LG           2226\n",
       "Motorola     8054\n",
       "Samsung     11511\n",
       "Xiaomi      13387\n",
       "Apple       15931\n",
       "Name: Marca_x, dtype: int64"
      ]
     },
     "execution_count": 7,
     "metadata": {},
     "output_type": "execute_result"
    }
   ],
   "source": [
    "web_api.groupby('Marca_x').Marca_x.count().sort_values()"
   ]
  },
  {
   "cell_type": "code",
   "execution_count": 32,
   "metadata": {},
   "outputs": [],
   "source": [
    "#Estados com mais anúncios de celulares, São Paulo, Paraná, Minas Gerais, Goiás, Rio de Janeiro, Santa Catarina, Bahia, Rio Grande do Sul"
   ]
  },
  {
   "cell_type": "code",
   "execution_count": 8,
   "metadata": {},
   "outputs": [
    {
     "data": {
      "text/plain": [
       "address.state_name\n",
       "Roraima                   35\n",
       "Amapá                     40\n",
       "Acre                      84\n",
       "Tocantins                105\n",
       "Rondônia                 121\n",
       "Sergipe                  171\n",
       "Amazonas                 182\n",
       "Alagoas                  189\n",
       "Piauí                    226\n",
       "Paraíba                  257\n",
       "Mato Grosso              323\n",
       "Rio Grande do Norte      328\n",
       "Pará                     352\n",
       "Maranhão                 367\n",
       "Mato Grosso do Sul       575\n",
       "Ceará                    622\n",
       "Pernambuco               650\n",
       "Distrito Federal         824\n",
       "Goiás                   1291\n",
       "Espírito Santo          1295\n",
       "Santa Catarina          1730\n",
       "Bahia                   1785\n",
       "Rio Grande do Sul       2177\n",
       "Rio de Janeiro          3799\n",
       "Minas Gerais            4857\n",
       "Paraná                  5111\n",
       "São Paulo              24046\n",
       "Name: address.state_name, dtype: int64"
      ]
     },
     "execution_count": 8,
     "metadata": {},
     "output_type": "execute_result"
    }
   ],
   "source": [
    "web_api.groupby('address.state_name')['address.state_name'].count().sort_values()"
   ]
  },
  {
   "cell_type": "code",
   "execution_count": null,
   "metadata": {},
   "outputs": [],
   "source": [
    "# sao paulo > 45,8%\n",
    "# Paraná > 10,64%\n",
    "# Mg > 9,28%\n",
    "# RJ > 7,70%\n",
    "# Bahia > 3,63%"
   ]
  },
  {
   "cell_type": "code",
   "execution_count": null,
   "metadata": {},
   "outputs": [],
   "source": [
    "#Quantidade de celulares novos e usados"
   ]
  },
  {
   "cell_type": "code",
   "execution_count": 9,
   "metadata": {},
   "outputs": [
    {
     "data": {
      "text/plain": [
       "condition\n",
       "not_specified       43\n",
       "new              22043\n",
       "used             29456\n",
       "Name: condition, dtype: int64"
      ]
     },
     "execution_count": 9,
     "metadata": {},
     "output_type": "execute_result"
    }
   ],
   "source": [
    "web_api.groupby('condition').condition.count().sort_values()"
   ]
  },
  {
   "cell_type": "code",
   "execution_count": null,
   "metadata": {},
   "outputs": [],
   "source": [
    "# 51% de usados "
   ]
  },
  {
   "cell_type": "code",
   "execution_count": null,
   "metadata": {},
   "outputs": [],
   "source": [
    "#Quantidade de linhas por modelo"
   ]
  },
  {
   "cell_type": "code",
   "execution_count": 10,
   "metadata": {},
   "outputs": [
    {
     "data": {
      "text/plain": [
       "Linha_x\n",
       ".Audio                                                                                                     1\n",
       "Moto G - Moto G3 - Motorola Moto G - Motorola Moto G3 - Moto G3 Usado - Moto G3 Seminovo - Motorola        1\n",
       "Zoey 3G                                                                                                    1\n",
       "a                                                                                                          1\n",
       "Moto - Moto G5 - Motorola - Celular - Celulares - Celular Barato - Smartphone - Black Friday               1\n",
       "                                                                                                       ...  \n",
       "Galaxy S                                                                                                3207\n",
       "Moto G                                                                                                  3622\n",
       "Galaxy A                                                                                                3976\n",
       "Redmi                                                                                                  10179\n",
       "iPhone                                                                                                 15995\n",
       "Name: Linha_x, Length: 543, dtype: int64"
      ]
     },
     "execution_count": 10,
     "metadata": {},
     "output_type": "execute_result"
    }
   ],
   "source": [
    "web_api.groupby('Linha_x').Linha_x.count().sort_values()"
   ]
  },
  {
   "cell_type": "code",
   "execution_count": 70,
   "metadata": {},
   "outputs": [],
   "source": [
    "data_final = pd.read_csv(r'C:\\Users\\eloah.noguchi\\Downloads\\data_final14052021.csv')"
   ]
  },
  {
   "cell_type": "code",
   "execution_count": 12,
   "metadata": {},
   "outputs": [],
   "source": [
    "#Quantidade da base"
   ]
  },
  {
   "cell_type": "code",
   "execution_count": 71,
   "metadata": {},
   "outputs": [
    {
     "data": {
      "text/plain": [
       "Unnamed: 0               20319\n",
       "memoria_interna          20319\n",
       "memoria_ram              20319\n",
       "quantidade_sims          20319\n",
       "ano_lancamento           20319\n",
       "marca_renomeado_upper    20319\n",
       "condition                20319\n",
       "Linha                    20263\n",
       "Marca                    20319\n",
       "price                    20319\n",
       "dtype: int64"
      ]
     },
     "execution_count": 71,
     "metadata": {},
     "output_type": "execute_result"
    }
   ],
   "source": [
    "data_final.count()"
   ]
  },
  {
   "cell_type": "code",
   "execution_count": null,
   "metadata": {},
   "outputs": [],
   "source": [
    "#marcas disponiveis - Apple, Samsung, Motorola, Xiaomi, Realme"
   ]
  },
  {
   "cell_type": "code",
   "execution_count": 75,
   "metadata": {},
   "outputs": [
    {
     "data": {
      "text/html": [
       "<div>\n",
       "<style scoped>\n",
       "    .dataframe tbody tr th:only-of-type {\n",
       "        vertical-align: middle;\n",
       "    }\n",
       "\n",
       "    .dataframe tbody tr th {\n",
       "        vertical-align: top;\n",
       "    }\n",
       "\n",
       "    .dataframe thead th {\n",
       "        text-align: right;\n",
       "    }\n",
       "</style>\n",
       "<table border=\"1\" class=\"dataframe\">\n",
       "  <thead>\n",
       "    <tr style=\"text-align: right;\">\n",
       "      <th></th>\n",
       "      <th>Unnamed: 0</th>\n",
       "      <th>memoria_interna</th>\n",
       "      <th>memoria_ram</th>\n",
       "      <th>quantidade_sims</th>\n",
       "      <th>ano_lancamento</th>\n",
       "      <th>marca_renomeado_upper</th>\n",
       "      <th>condition</th>\n",
       "      <th>Linha</th>\n",
       "      <th>Marca</th>\n",
       "      <th>price</th>\n",
       "    </tr>\n",
       "  </thead>\n",
       "  <tbody>\n",
       "    <tr>\n",
       "      <th>0</th>\n",
       "      <td>5</td>\n",
       "      <td>64</td>\n",
       "      <td>4.0</td>\n",
       "      <td>2.0</td>\n",
       "      <td>2019.0</td>\n",
       "      <td>REDMI NOTE 8</td>\n",
       "      <td>new</td>\n",
       "      <td>Redmi</td>\n",
       "      <td>Xiaomi</td>\n",
       "      <td>1170.5</td>\n",
       "    </tr>\n",
       "    <tr>\n",
       "      <th>1</th>\n",
       "      <td>6</td>\n",
       "      <td>64</td>\n",
       "      <td>4.0</td>\n",
       "      <td>2.0</td>\n",
       "      <td>2019.0</td>\n",
       "      <td>REDMI NOTE 8</td>\n",
       "      <td>new</td>\n",
       "      <td>Redmi</td>\n",
       "      <td>Xiaomi</td>\n",
       "      <td>1278.0</td>\n",
       "    </tr>\n",
       "    <tr>\n",
       "      <th>2</th>\n",
       "      <td>7</td>\n",
       "      <td>64</td>\n",
       "      <td>4.0</td>\n",
       "      <td>2.0</td>\n",
       "      <td>2019.0</td>\n",
       "      <td>REDMI NOTE 8</td>\n",
       "      <td>new</td>\n",
       "      <td>Redmi</td>\n",
       "      <td>Xiaomi</td>\n",
       "      <td>1266.0</td>\n",
       "    </tr>\n",
       "    <tr>\n",
       "      <th>3</th>\n",
       "      <td>8</td>\n",
       "      <td>64</td>\n",
       "      <td>4.0</td>\n",
       "      <td>2.0</td>\n",
       "      <td>2019.0</td>\n",
       "      <td>REDMI NOTE 8</td>\n",
       "      <td>new</td>\n",
       "      <td>Redmi</td>\n",
       "      <td>Xiaomi</td>\n",
       "      <td>1248.0</td>\n",
       "    </tr>\n",
       "    <tr>\n",
       "      <th>4</th>\n",
       "      <td>9</td>\n",
       "      <td>64</td>\n",
       "      <td>4.0</td>\n",
       "      <td>2.0</td>\n",
       "      <td>2019.0</td>\n",
       "      <td>REDMI NOTE 8</td>\n",
       "      <td>new</td>\n",
       "      <td>Redmi</td>\n",
       "      <td>Xiaomi</td>\n",
       "      <td>1310.0</td>\n",
       "    </tr>\n",
       "    <tr>\n",
       "      <th>...</th>\n",
       "      <td>...</td>\n",
       "      <td>...</td>\n",
       "      <td>...</td>\n",
       "      <td>...</td>\n",
       "      <td>...</td>\n",
       "      <td>...</td>\n",
       "      <td>...</td>\n",
       "      <td>...</td>\n",
       "      <td>...</td>\n",
       "      <td>...</td>\n",
       "    </tr>\n",
       "    <tr>\n",
       "      <th>20314</th>\n",
       "      <td>24216</td>\n",
       "      <td>64</td>\n",
       "      <td>64.0</td>\n",
       "      <td>1.0</td>\n",
       "      <td>2018.0</td>\n",
       "      <td>IPHONE XR</td>\n",
       "      <td>used</td>\n",
       "      <td>iPhone</td>\n",
       "      <td>Apple</td>\n",
       "      <td>2959.9</td>\n",
       "    </tr>\n",
       "    <tr>\n",
       "      <th>20315</th>\n",
       "      <td>24217</td>\n",
       "      <td>64</td>\n",
       "      <td>4.0</td>\n",
       "      <td>2.0</td>\n",
       "      <td>2019.0</td>\n",
       "      <td>REDMI NOTE 8</td>\n",
       "      <td>used</td>\n",
       "      <td>Redmi</td>\n",
       "      <td>Xiaomi</td>\n",
       "      <td>1350.0</td>\n",
       "    </tr>\n",
       "    <tr>\n",
       "      <th>20316</th>\n",
       "      <td>24219</td>\n",
       "      <td>64</td>\n",
       "      <td>3.0</td>\n",
       "      <td>1.0</td>\n",
       "      <td>2016.0</td>\n",
       "      <td>IPHONE 8 PLUS</td>\n",
       "      <td>used</td>\n",
       "      <td>iPhone</td>\n",
       "      <td>Apple</td>\n",
       "      <td>2300.0</td>\n",
       "    </tr>\n",
       "    <tr>\n",
       "      <th>20317</th>\n",
       "      <td>24220</td>\n",
       "      <td>256</td>\n",
       "      <td>8.0</td>\n",
       "      <td>1.0</td>\n",
       "      <td>2021.0</td>\n",
       "      <td>POCO X3 PRO</td>\n",
       "      <td>new</td>\n",
       "      <td>Redmi</td>\n",
       "      <td>Xiaomi</td>\n",
       "      <td>2239.0</td>\n",
       "    </tr>\n",
       "    <tr>\n",
       "      <th>20318</th>\n",
       "      <td>24221</td>\n",
       "      <td>64</td>\n",
       "      <td>4.0</td>\n",
       "      <td>2.0</td>\n",
       "      <td>2019.0</td>\n",
       "      <td>REDMI 8A</td>\n",
       "      <td>new</td>\n",
       "      <td>Redmi</td>\n",
       "      <td>Xiaomi</td>\n",
       "      <td>1079.0</td>\n",
       "    </tr>\n",
       "  </tbody>\n",
       "</table>\n",
       "<p>20319 rows × 10 columns</p>\n",
       "</div>"
      ],
      "text/plain": [
       "       Unnamed: 0  memoria_interna  memoria_ram  quantidade_sims  \\\n",
       "0               5               64          4.0              2.0   \n",
       "1               6               64          4.0              2.0   \n",
       "2               7               64          4.0              2.0   \n",
       "3               8               64          4.0              2.0   \n",
       "4               9               64          4.0              2.0   \n",
       "...           ...              ...          ...              ...   \n",
       "20314       24216               64         64.0              1.0   \n",
       "20315       24217               64          4.0              2.0   \n",
       "20316       24219               64          3.0              1.0   \n",
       "20317       24220              256          8.0              1.0   \n",
       "20318       24221               64          4.0              2.0   \n",
       "\n",
       "       ano_lancamento marca_renomeado_upper condition   Linha   Marca   price  \n",
       "0              2019.0          REDMI NOTE 8       new   Redmi  Xiaomi  1170.5  \n",
       "1              2019.0          REDMI NOTE 8       new   Redmi  Xiaomi  1278.0  \n",
       "2              2019.0          REDMI NOTE 8       new   Redmi  Xiaomi  1266.0  \n",
       "3              2019.0          REDMI NOTE 8       new   Redmi  Xiaomi  1248.0  \n",
       "4              2019.0          REDMI NOTE 8       new   Redmi  Xiaomi  1310.0  \n",
       "...               ...                   ...       ...     ...     ...     ...  \n",
       "20314          2018.0             IPHONE XR      used  iPhone   Apple  2959.9  \n",
       "20315          2019.0          REDMI NOTE 8      used   Redmi  Xiaomi  1350.0  \n",
       "20316          2016.0         IPHONE 8 PLUS      used  iPhone   Apple  2300.0  \n",
       "20317          2021.0           POCO X3 PRO       new   Redmi  Xiaomi  2239.0  \n",
       "20318          2019.0              REDMI 8A       new   Redmi  Xiaomi  1079.0  \n",
       "\n",
       "[20319 rows x 10 columns]"
      ]
     },
     "execution_count": 75,
     "metadata": {},
     "output_type": "execute_result"
    }
   ],
   "source": [
    "data_final"
   ]
  },
  {
   "cell_type": "code",
   "execution_count": 76,
   "metadata": {},
   "outputs": [
    {
     "data": {
      "text/plain": [
       "Marca\n",
       "Motorola     460\n",
       "Samsung     2916\n",
       "Xiaomi      7161\n",
       "Apple       9782\n",
       "Name: Marca, dtype: int64"
      ]
     },
     "execution_count": 76,
     "metadata": {},
     "output_type": "execute_result"
    }
   ],
   "source": [
    "data_final.groupby('Marca').Marca.count().sort_values()"
   ]
  },
  {
   "cell_type": "code",
   "execution_count": 32,
   "metadata": {},
   "outputs": [],
   "source": [
    "#Estados com mais anúncios de celulares, São Paulo, Paraná, Minas Gerais, Goiás, Rio de Janeiro, Santa Catarina, Bahia, Rio Grande do Sul"
   ]
  },
  {
   "cell_type": "code",
   "execution_count": null,
   "metadata": {},
   "outputs": [],
   "source": [
    "#Quantidade de celulares novos e usados"
   ]
  },
  {
   "cell_type": "code",
   "execution_count": 77,
   "metadata": {},
   "outputs": [
    {
     "data": {
      "text/plain": [
       "condition\n",
       "not_specified        5\n",
       "new               9809\n",
       "used             10505\n",
       "Name: condition, dtype: int64"
      ]
     },
     "execution_count": 77,
     "metadata": {},
     "output_type": "execute_result"
    }
   ],
   "source": [
    "data_final.groupby('condition').condition.count().sort_values()"
   ]
  },
  {
   "cell_type": "code",
   "execution_count": null,
   "metadata": {},
   "outputs": [],
   "source": [
    "# 51% de usados "
   ]
  },
  {
   "cell_type": "code",
   "execution_count": null,
   "metadata": {},
   "outputs": [],
   "source": [
    "#Quantidade de linhas por modelo"
   ]
  },
  {
   "cell_type": "code",
   "execution_count": 78,
   "metadata": {
    "collapsed": true
   },
   "outputs": [
    {
     "data": {
      "text/plain": [
       "Linha\n",
       "1                                                                                                                                                                         1\n",
       "SMJ810                                                                                                                                                                    1\n",
       "S9 Plus                                                                                                                                                                   1\n",
       "S Series                                                                                                                                                                  1\n",
       "S 21                                                                                                                                                                      1\n",
       "Relógio Feminino Smart Watch Oled P70 + Duas Pulseiras Rose                                                                                                               1\n",
       "Relogio Digital Inteligente Smartwatch com Ligação para Ios Android Celular                                                                                               1\n",
       "Realme 7 Pro                                                                                                                                                              1\n",
       "Premium                                                                                                                                                                   1\n",
       "Poco x3 pro                                                                                                                                                               1\n",
       "Poco x3 PRO                                                                                                                                                               1\n",
       "Samsung                                                                                                                                                                   1\n",
       "Poco X3 PRO                                                                                                                                                               1\n",
       "Para Idosos                                                                                                                                                               1\n",
       "PAMM0018BR                                                                                                                                                                1\n",
       "Moto G30                                                                                                                                                                  1\n",
       "Motion Plus                                                                                                                                                               1\n",
       "Mi note 10                                                                                                                                                                1\n",
       "M3                                                                                                                                                                        1\n",
       "IWO Watchphone                                                                                                                                                            1\n",
       "IPHONE DOURADO MAÇA OURO                                                                                                                                                  1\n",
       "IOS                                                                                                                                                                       1\n",
       "Google                                                                                                                                                                    1\n",
       "Poco X3                                                                                                                                                                   1\n",
       "Sansumg S9                                                                                                                                                                1\n",
       "Series 3                                                                                                                                                                  1\n",
       "Series 6                                                                                                                                                                  1\n",
       "veicular                                                                                                                                                                  1\n",
       "sensi 8                                                                                                                                                                   1\n",
       "iPhone XS Max                                                                                                                                                             1\n",
       "iPhone XR                                                                                                                                                                 1\n",
       "iPhone 7 preto matte                                                                                                                                                      1\n",
       "iPhone 7 Plus                                                                                                                                                             1\n",
       "iPhone - iPhone 7 - 7 - Celular - Smartphone - iPhone                                                                                                                     1\n",
       "iPhone - iPhone 6 - Celular iPhone - iPhone 6 16GB - iPhone 6 Seminovo - iPhone Usado - iPhone 6 Usado - Celular - Celulares - iPhone 6 16GB usado - iPhone 6 usado       1\n",
       "fone ligtning                                                                                                                                                             1\n",
       "celulares                                                                                                                                                                 1\n",
       "Zoey 3G                                                                                                                                                                   1\n",
       "XIAOMI                                                                                                                                                                    1\n",
       "X3 PRO                                                                                                                                                                    1\n",
       "Watch                                                                                                                                                                     1\n",
       "Vxf                                                                                                                                                                       1\n",
       "VEICULAR                                                                                                                                                                  1\n",
       "Twist                                                                                                                                                                     1\n",
       "TWS                                                                                                                                                                       1\n",
       "Suporte p/ bike e moto                                                                                                                                                    1\n",
       "Studio Series                                                                                                                                                             1\n",
       "Smartphone REDMi                                                                                                                                                          1\n",
       "Smartphone                                                                                                                                                                1\n",
       "Smart phone                                                                                                                                                               1\n",
       "Galex                                                                                                                                                                     1\n",
       "Galaxy S9+ Duos                                                                                                                                                           1\n",
       "Moto X                                                                                                                                                                    1\n",
       "Galaxy S8 - Samsung S8 - Celular Galaxy - S8 - Galaxy S8 Prata - Galaxy S8 Usado - Galaxy S8 Seminovo                                                                     1\n",
       "Galaxy A31                                                                                                                                                                1\n",
       "Galaxy A11                                                                                                                                                                1\n",
       "Galaxy A 71                                                                                                                                                               1\n",
       "Galaxy S9 - Galaxy S9+ - Samsung Galaxy S9 - Celular S9 - S9 - Galaxy S9 Usado - Galaxy S9 Seminovo                                                                       1\n",
       "G Series                                                                                                                                                                  1\n",
       "Fashion                                                                                                                                                                   1\n",
       "Edge                                                                                                                                                                      1\n",
       "D20                                                                                                                                                                       1\n",
       "Couro Legítimo                                                                                                                                                            1\n",
       "Ativ                                                                                                                                                                      1\n",
       "Apple                                                                                                                                                                     1\n",
       "Galaxy A51                                                                                                                                                                1\n",
       "A7 2017                                                                                                                                                                   1\n",
       "A32                                                                                                                                                                       1\n",
       "A217                                                                                                                                                                      1\n",
       "A10s                                                                                                                                                                      1\n",
       "A022MZKJZTO                                                                                                                                                               1\n",
       "A022MZBJZTO                                                                                                                                                               1\n",
       "A nova 2020                                                                                                                                                               1\n",
       "8360                                                                                                                                                                      1\n",
       "7                                                                                                                                                                         1\n",
       "6s                                                                                                                                                                        1\n",
       "6S                                                                                                                                                                        1\n",
       "2222                                                                                                                                                                      1\n",
       "A52                                                                                                                                                                       1\n",
       "Galaxy A8 Plus                                                                                                                                                            1\n",
       "xs                                                                                                                                                                        1\n",
       "Galaxy S8 - Galaxy - Celular Samsung - Samsung Galaxy S8 - Galaxy S8 Usado - Galaxy S8 Seminovo                                                                           1\n",
       "Galaxy Note - Note 9 - Samsung - Samsung Galaxy Note 9 -  Note 9 Usado - Note 9 Seminovo - Galaxy - Celular Samsung                                                       1\n",
       "Galaxy Note - Note 8 - Galaxy Note 8 - Samsung Galaxy - Galaxy Note 8 Usado  Note 8 Seminovo - Celular                                                                    1\n",
       "Galaxy Note - Galaxy Note 9 - Galaxy Note 9 Usado - Galaxy Note 9 Seminovo - Celular - Samsung - Samsung Galaxy - Samsung Galaxy Note 9                                   1\n",
       "Galaxy Grand                                                                                                                                                              1\n",
       "Galaxy Core                                                                                                                                                               2\n",
       "Moto E6s                                                                                                                                                                  2\n",
       "Samsung Galaxy A11                                                                                                                                                        2\n",
       "Smartwatch                                                                                                                                                                2\n",
       "One Fusion                                                                                                                                                                2\n",
       "X                                                                                                                                                                         2\n",
       "X3 Pro                                                                                                                                                                    2\n",
       "X8                                                                                                                                                                        2\n",
       "A022MZRJZTO                                                                                                                                                               2\n",
       "Xiaomi redmi note 10 pro                                                                                                                                                  2\n",
       "IWO Lite                                                                                                                                                                  2\n",
       "i900000                                                                                                                                                                   2\n",
       "8 Plus                                                                                                                                                                    2\n",
       "Gamer                                                                                                                                                                     2\n",
       "lote                                                                                                                                                                      2\n",
       "Intermediária                                                                                                                                                             2\n",
       "SM-A107MAKDZTO                                                                                                                                                            2\n",
       "Bluetooth                                                                                                                                                                 2\n",
       "G8                                                                                                                                                                        2\n",
       "Galaxy C                                                                                                                                                                  2\n",
       "Nseries                                                                                                                                                                   2\n",
       "Moto G10                                                                                                                                                                  2\n",
       "xr                                                                                                                                                                        2\n",
       "Redmi Note 9                                                                                                                                                              2\n",
       "poco                                                                                                                                                                      3\n",
       "Note                                                                                                                                                                      3\n",
       "Moto Z                                                                                                                                                                    3\n",
       "Galaxy A01 Core                                                                                                                                                           3\n",
       "XR                                                                                                                                                                        3\n",
       "Redmi 9c                                                                                                                                                                  3\n",
       "X3                                                                                                                                                                        3\n",
       "Galaxy A01                                                                                                                                                                3\n",
       "Dual Sim                                                                                                                                                                  3\n",
       "Celular Samsung Galaxy A01                                                                                                                                                3\n",
       "Moto C                                                                                                                                                                    3\n",
       "Sim                                                                                                                                                                       4\n",
       "Galaxy M                                                                                                                                                                  4\n",
       "E7                                                                                                                                                                        4\n",
       "K Series                                                                                                                                                                  4\n",
       "Celular                                                                                                                                                                   4\n",
       "Xperia                                                                                                                                                                    4\n",
       "Poco X3 Pro                                                                                                                                                               5\n",
       "ZenFone                                                                                                                                                                   5\n",
       "S                                                                                                                                                                         5\n",
       "Xiaomi                                                                                                                                                                    5\n",
       "Galaxy Z                                                                                                                                                                  6\n",
       "A                                                                                                                                                                         7\n",
       "POCO X3 PRO                                                                                                                                                              10\n",
       "One                                                                                                                                                                      10\n",
       "xiaomi                                                                                                                                                                   12\n",
       "Pocophone                                                                                                                                                                17\n",
       "Black Shark                                                                                                                                                              22\n",
       "Galaxy J                                                                                                                                                                 29\n",
       "POCO                                                                                                                                                                     35\n",
       "Moto                                                                                                                                                                     77\n",
       "Poco                                                                                                                                                                     78\n",
       "Galaxy Note                                                                                                                                                              78\n",
       "Moto E                                                                                                                                                                  125\n",
       "Moto G                                                                                                                                                                  253\n",
       "Galaxy                                                                                                                                                                  412\n",
       "Mi                                                                                                                                                                      899\n",
       "Galaxy A                                                                                                                                                               1034\n",
       "Galaxy S                                                                                                                                                               1380\n",
       "Redmi                                                                                                                                                                  5699\n",
       "iPhone                                                                                                                                                                 9869\n",
       "Name: Linha, dtype: int64"
      ]
     },
     "execution_count": 78,
     "metadata": {},
     "output_type": "execute_result"
    }
   ],
   "source": [
    "data_final.groupby('Linha').Linha.count().sort_values()"
   ]
  },
  {
   "cell_type": "code",
   "execution_count": null,
   "metadata": {},
   "outputs": [],
   "source": [
    "agrupar todas as variaveis e comparar a media "
   ]
  },
  {
   "cell_type": "code",
   "execution_count": 90,
   "metadata": {},
   "outputs": [],
   "source": [
    "data_v2 = data_final[data_final.marca_renomeado_upper!='UNKNOWN']"
   ]
  },
  {
   "cell_type": "code",
   "execution_count": null,
   "metadata": {},
   "outputs": [],
   "source": [
    "datav2"
   ]
  },
  {
   "cell_type": "code",
   "execution_count": 91,
   "metadata": {},
   "outputs": [
    {
     "data": {
      "text/html": [
       "<div>\n",
       "<style scoped>\n",
       "    .dataframe tbody tr th:only-of-type {\n",
       "        vertical-align: middle;\n",
       "    }\n",
       "\n",
       "    .dataframe tbody tr th {\n",
       "        vertical-align: top;\n",
       "    }\n",
       "\n",
       "    .dataframe thead th {\n",
       "        text-align: right;\n",
       "    }\n",
       "</style>\n",
       "<table border=\"1\" class=\"dataframe\">\n",
       "  <thead>\n",
       "    <tr style=\"text-align: right;\">\n",
       "      <th></th>\n",
       "      <th>Unnamed: 0</th>\n",
       "      <th>memoria_interna</th>\n",
       "      <th>memoria_ram</th>\n",
       "      <th>quantidade_sims</th>\n",
       "      <th>ano_lancamento</th>\n",
       "      <th>marca_renomeado_upper</th>\n",
       "      <th>condition</th>\n",
       "      <th>Linha</th>\n",
       "      <th>Marca</th>\n",
       "      <th>price</th>\n",
       "    </tr>\n",
       "  </thead>\n",
       "  <tbody>\n",
       "    <tr>\n",
       "      <th>0</th>\n",
       "      <td>5</td>\n",
       "      <td>64</td>\n",
       "      <td>4.0</td>\n",
       "      <td>2.0</td>\n",
       "      <td>2019.0</td>\n",
       "      <td>REDMI NOTE 8</td>\n",
       "      <td>new</td>\n",
       "      <td>Redmi</td>\n",
       "      <td>Xiaomi</td>\n",
       "      <td>1170.5</td>\n",
       "    </tr>\n",
       "    <tr>\n",
       "      <th>1</th>\n",
       "      <td>6</td>\n",
       "      <td>64</td>\n",
       "      <td>4.0</td>\n",
       "      <td>2.0</td>\n",
       "      <td>2019.0</td>\n",
       "      <td>REDMI NOTE 8</td>\n",
       "      <td>new</td>\n",
       "      <td>Redmi</td>\n",
       "      <td>Xiaomi</td>\n",
       "      <td>1278.0</td>\n",
       "    </tr>\n",
       "    <tr>\n",
       "      <th>2</th>\n",
       "      <td>7</td>\n",
       "      <td>64</td>\n",
       "      <td>4.0</td>\n",
       "      <td>2.0</td>\n",
       "      <td>2019.0</td>\n",
       "      <td>REDMI NOTE 8</td>\n",
       "      <td>new</td>\n",
       "      <td>Redmi</td>\n",
       "      <td>Xiaomi</td>\n",
       "      <td>1266.0</td>\n",
       "    </tr>\n",
       "    <tr>\n",
       "      <th>3</th>\n",
       "      <td>8</td>\n",
       "      <td>64</td>\n",
       "      <td>4.0</td>\n",
       "      <td>2.0</td>\n",
       "      <td>2019.0</td>\n",
       "      <td>REDMI NOTE 8</td>\n",
       "      <td>new</td>\n",
       "      <td>Redmi</td>\n",
       "      <td>Xiaomi</td>\n",
       "      <td>1248.0</td>\n",
       "    </tr>\n",
       "    <tr>\n",
       "      <th>4</th>\n",
       "      <td>9</td>\n",
       "      <td>64</td>\n",
       "      <td>4.0</td>\n",
       "      <td>2.0</td>\n",
       "      <td>2019.0</td>\n",
       "      <td>REDMI NOTE 8</td>\n",
       "      <td>new</td>\n",
       "      <td>Redmi</td>\n",
       "      <td>Xiaomi</td>\n",
       "      <td>1310.0</td>\n",
       "    </tr>\n",
       "    <tr>\n",
       "      <th>...</th>\n",
       "      <td>...</td>\n",
       "      <td>...</td>\n",
       "      <td>...</td>\n",
       "      <td>...</td>\n",
       "      <td>...</td>\n",
       "      <td>...</td>\n",
       "      <td>...</td>\n",
       "      <td>...</td>\n",
       "      <td>...</td>\n",
       "      <td>...</td>\n",
       "    </tr>\n",
       "    <tr>\n",
       "      <th>20314</th>\n",
       "      <td>24216</td>\n",
       "      <td>64</td>\n",
       "      <td>64.0</td>\n",
       "      <td>1.0</td>\n",
       "      <td>2018.0</td>\n",
       "      <td>IPHONE XR</td>\n",
       "      <td>used</td>\n",
       "      <td>iPhone</td>\n",
       "      <td>Apple</td>\n",
       "      <td>2959.9</td>\n",
       "    </tr>\n",
       "    <tr>\n",
       "      <th>20315</th>\n",
       "      <td>24217</td>\n",
       "      <td>64</td>\n",
       "      <td>4.0</td>\n",
       "      <td>2.0</td>\n",
       "      <td>2019.0</td>\n",
       "      <td>REDMI NOTE 8</td>\n",
       "      <td>used</td>\n",
       "      <td>Redmi</td>\n",
       "      <td>Xiaomi</td>\n",
       "      <td>1350.0</td>\n",
       "    </tr>\n",
       "    <tr>\n",
       "      <th>20316</th>\n",
       "      <td>24219</td>\n",
       "      <td>64</td>\n",
       "      <td>3.0</td>\n",
       "      <td>1.0</td>\n",
       "      <td>2016.0</td>\n",
       "      <td>IPHONE 8 PLUS</td>\n",
       "      <td>used</td>\n",
       "      <td>iPhone</td>\n",
       "      <td>Apple</td>\n",
       "      <td>2300.0</td>\n",
       "    </tr>\n",
       "    <tr>\n",
       "      <th>20317</th>\n",
       "      <td>24220</td>\n",
       "      <td>256</td>\n",
       "      <td>8.0</td>\n",
       "      <td>1.0</td>\n",
       "      <td>2021.0</td>\n",
       "      <td>POCO X3 PRO</td>\n",
       "      <td>new</td>\n",
       "      <td>Redmi</td>\n",
       "      <td>Xiaomi</td>\n",
       "      <td>2239.0</td>\n",
       "    </tr>\n",
       "    <tr>\n",
       "      <th>20318</th>\n",
       "      <td>24221</td>\n",
       "      <td>64</td>\n",
       "      <td>4.0</td>\n",
       "      <td>2.0</td>\n",
       "      <td>2019.0</td>\n",
       "      <td>REDMI 8A</td>\n",
       "      <td>new</td>\n",
       "      <td>Redmi</td>\n",
       "      <td>Xiaomi</td>\n",
       "      <td>1079.0</td>\n",
       "    </tr>\n",
       "  </tbody>\n",
       "</table>\n",
       "<p>19207 rows × 10 columns</p>\n",
       "</div>"
      ],
      "text/plain": [
       "       Unnamed: 0  memoria_interna  memoria_ram  quantidade_sims  \\\n",
       "0               5               64          4.0              2.0   \n",
       "1               6               64          4.0              2.0   \n",
       "2               7               64          4.0              2.0   \n",
       "3               8               64          4.0              2.0   \n",
       "4               9               64          4.0              2.0   \n",
       "...           ...              ...          ...              ...   \n",
       "20314       24216               64         64.0              1.0   \n",
       "20315       24217               64          4.0              2.0   \n",
       "20316       24219               64          3.0              1.0   \n",
       "20317       24220              256          8.0              1.0   \n",
       "20318       24221               64          4.0              2.0   \n",
       "\n",
       "       ano_lancamento marca_renomeado_upper condition   Linha   Marca   price  \n",
       "0              2019.0          REDMI NOTE 8       new   Redmi  Xiaomi  1170.5  \n",
       "1              2019.0          REDMI NOTE 8       new   Redmi  Xiaomi  1278.0  \n",
       "2              2019.0          REDMI NOTE 8       new   Redmi  Xiaomi  1266.0  \n",
       "3              2019.0          REDMI NOTE 8       new   Redmi  Xiaomi  1248.0  \n",
       "4              2019.0          REDMI NOTE 8       new   Redmi  Xiaomi  1310.0  \n",
       "...               ...                   ...       ...     ...     ...     ...  \n",
       "20314          2018.0             IPHONE XR      used  iPhone   Apple  2959.9  \n",
       "20315          2019.0          REDMI NOTE 8      used   Redmi  Xiaomi  1350.0  \n",
       "20316          2016.0         IPHONE 8 PLUS      used  iPhone   Apple  2300.0  \n",
       "20317          2021.0           POCO X3 PRO       new   Redmi  Xiaomi  2239.0  \n",
       "20318          2019.0              REDMI 8A       new   Redmi  Xiaomi  1079.0  \n",
       "\n",
       "[19207 rows x 10 columns]"
      ]
     },
     "execution_count": 91,
     "metadata": {},
     "output_type": "execute_result"
    }
   ],
   "source": [
    "data_v2"
   ]
  },
  {
   "cell_type": "code",
   "execution_count": null,
   "metadata": {},
   "outputs": [],
   "source": []
  },
  {
   "cell_type": "code",
   "execution_count": null,
   "metadata": {},
   "outputs": [],
   "source": []
  }
 ],
 "metadata": {
  "kernelspec": {
   "display_name": "Python 3",
   "language": "python",
   "name": "python3"
  },
  "language_info": {
   "codemirror_mode": {
    "name": "ipython",
    "version": 3
   },
   "file_extension": ".py",
   "mimetype": "text/x-python",
   "name": "python",
   "nbconvert_exporter": "python",
   "pygments_lexer": "ipython3",
   "version": "3.7.7"
  }
 },
 "nbformat": 4,
 "nbformat_minor": 4
}
