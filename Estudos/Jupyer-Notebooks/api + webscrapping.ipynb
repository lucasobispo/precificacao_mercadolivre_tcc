{
 "cells": [
  {
   "cell_type": "code",
   "execution_count": 1,
   "metadata": {},
   "outputs": [],
   "source": [
    "import pandas as pd\n"
   ]
  },
  {
   "cell_type": "code",
   "execution_count": 8,
   "metadata": {},
   "outputs": [],
   "source": [
    "parquet = pd.read_parquet(r'C:\\Users\\eloah.noguchi\\Downloads\\dados-caracteristicas-1000.parquet')\n"
   ]
  },
  {
   "cell_type": "code",
   "execution_count": 10,
   "metadata": {},
   "outputs": [
    {
     "data": {
      "text/plain": [
       "Index(['id', 'link', 'Marca', 'Modelo', 'Cor', 'Memória interna',\n",
       "       'Memória RAM', 'Com ranhura para cartão de memória',\n",
       "       'Tipos de cartão de memória', 'Capacidade máxima do cartão de memória',\n",
       "       ...\n",
       "       'Com cabo desmontável', 'Com modo mãos livres', 'Conectores de entrada',\n",
       "       'Tipos de alto-falante', 'Tipos de filtros do alto-falante',\n",
       "       'Configuração de canais', 'Inclui bateria recarregável',\n",
       "       'Formato do alto-falante', 'Lugares de colocação', 'Largura x Altura'],\n",
       "      dtype='object', length=184)"
      ]
     },
     "execution_count": 10,
     "metadata": {},
     "output_type": "execute_result"
    }
   ],
   "source": [
    "parquet.columns"
   ]
  },
  {
   "cell_type": "code",
   "execution_count": null,
   "metadata": {},
   "outputs": [],
   "source": []
  }
 ],
 "metadata": {
  "kernelspec": {
   "display_name": "Python 3",
   "language": "python",
   "name": "python3"
  },
  "language_info": {
   "codemirror_mode": {
    "name": "ipython",
    "version": 3
   },
   "file_extension": ".py",
   "mimetype": "text/x-python",
   "name": "python",
   "nbconvert_exporter": "python",
   "pygments_lexer": "ipython3",
   "version": "3.7.7"
  }
 },
 "nbformat": 4,
 "nbformat_minor": 4
}
